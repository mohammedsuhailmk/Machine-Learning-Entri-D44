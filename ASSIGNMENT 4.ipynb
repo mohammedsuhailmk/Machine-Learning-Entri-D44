{
 "cells": [
  {
   "cell_type": "markdown",
   "id": "566f85da-11ea-4327-bb60-bc201301a4f5",
   "metadata": {},
   "source": [
    "# <span style='color:brown'> Assignment 4 <span>"
   ]
  },
  {
   "cell_type": "code",
   "execution_count": 1,
   "id": "2bf1d689-3123-4f34-8196-d23f1755baab",
   "metadata": {},
   "outputs": [],
   "source": [
    "import pandas as pd\n",
    "import numpy as np\n",
    "from sklearn.datasets import load_breast_cancer\n",
    "from sklearn.model_selection import train_test_split\n",
    "from sklearn.preprocessing import StandardScaler\n",
    "from sklearn.metrics import accuracy_score, classification_report, confusion_matrix"
   ]
  },
  {
   "cell_type": "markdown",
   "id": "a7be231b-0dce-456e-adba-b7658c5da8c5",
   "metadata": {},
   "source": [
    "# Loading and Preprocessing"
   ]
  },
  {
   "cell_type": "code",
   "execution_count": 2,
   "id": "1bd854e8-da7d-4afe-a594-c1e57b1cb3b4",
   "metadata": {},
   "outputs": [],
   "source": [
    "data = load_breast_cancer()\n",
    "X = pd.DataFrame(data.data, columns=data.feature_names)\n",
    "y = pd.Series(data.target)"
   ]
  },
  {
   "cell_type": "markdown",
   "id": "bccba5a1-0566-4ef4-b343-5fcd3f3f58c8",
   "metadata": {},
   "source": [
    "## Check for missing values"
   ]
  },
  {
   "cell_type": "code",
   "execution_count": 3,
   "id": "cf9f7ab2-8340-467f-a1f8-2bc027e3d0a6",
   "metadata": {},
   "outputs": [
    {
     "name": "stdout",
     "output_type": "stream",
     "text": [
      "Missing values:\n",
      " mean radius                0\n",
      "mean texture               0\n",
      "mean perimeter             0\n",
      "mean area                  0\n",
      "mean smoothness            0\n",
      "mean compactness           0\n",
      "mean concavity             0\n",
      "mean concave points        0\n",
      "mean symmetry              0\n",
      "mean fractal dimension     0\n",
      "radius error               0\n",
      "texture error              0\n",
      "perimeter error            0\n",
      "area error                 0\n",
      "smoothness error           0\n",
      "compactness error          0\n",
      "concavity error            0\n",
      "concave points error       0\n",
      "symmetry error             0\n",
      "fractal dimension error    0\n",
      "worst radius               0\n",
      "worst texture              0\n",
      "worst perimeter            0\n",
      "worst area                 0\n",
      "worst smoothness           0\n",
      "worst compactness          0\n",
      "worst concavity            0\n",
      "worst concave points       0\n",
      "worst symmetry             0\n",
      "worst fractal dimension    0\n",
      "dtype: int64\n"
     ]
    }
   ],
   "source": [
    "print(\"Missing values:\\n\", X.isnull().sum())"
   ]
  },
  {
   "cell_type": "markdown",
   "id": "d51102c3-bf1b-4fab-b404-8edf320e2a7d",
   "metadata": {},
   "source": [
    "### Missing values can distort model training and lead to errors or misleading results. In this dataset, there are no missing values, so no imputation was needed."
   ]
  },
  {
   "cell_type": "code",
   "execution_count": 4,
   "id": "60370a80-83a7-42b3-98e4-cd59bc8737d0",
   "metadata": {},
   "outputs": [],
   "source": [
    "scaler = StandardScaler()\n",
    "X_scaled = scaler.fit_transform(X)"
   ]
  },
  {
   "cell_type": "markdown",
   "id": "4dec6be3-f2ac-438a-83ca-dd3be9955d75",
   "metadata": {},
   "source": [
    "### Feature scaling is essential for algorithms like SVM and KNN that are sensitive to feature magnitudes"
   ]
  },
  {
   "cell_type": "markdown",
   "id": "da77cdef-6092-4958-b0e9-45e2db1dd0b8",
   "metadata": {},
   "source": [
    "## Split into train and test sets"
   ]
  },
  {
   "cell_type": "code",
   "execution_count": 5,
   "id": "012b42d6-898d-48c3-8d0e-4779e677bdd9",
   "metadata": {},
   "outputs": [],
   "source": [
    "X_train, X_test, y_train, y_test = train_test_split(X_scaled, y, test_size=0.2, random_state=42)"
   ]
  },
  {
   "cell_type": "markdown",
   "id": "73d6a60b-e924-4dd9-aba6-9dafc47e4f17",
   "metadata": {},
   "source": [
    "### To evaluate model performance, we need to separate a portion of the data for testing, ensuring the model is evaluated on unseen data to mimic real-world scenarios."
   ]
  },
  {
   "cell_type": "markdown",
   "id": "dc4302e6-e072-4ce1-9f6c-3d4cd47acc4c",
   "metadata": {},
   "source": [
    "## Feature scaling"
   ]
  },
  {
   "cell_type": "code",
   "execution_count": 6,
   "id": "78a085d4-3cec-4e56-844b-6f2e708237c4",
   "metadata": {},
   "outputs": [],
   "source": [
    "#  Models to Implement\n",
    "from sklearn.linear_model import LogisticRegression\n",
    "from sklearn.tree import DecisionTreeClassifier\n",
    "from sklearn.ensemble import RandomForestClassifier\n",
    "from sklearn.svm import SVC\n",
    "from sklearn.neighbors import KNeighborsClassifier"
   ]
  },
  {
   "cell_type": "code",
   "execution_count": 7,
   "id": "a66f4e90-d4ed-4cdb-8dc2-cb1bf69ad217",
   "metadata": {},
   "outputs": [],
   "source": [
    "# Initialize models\n",
    "models = {\n",
    "    \"Logistic Regression\": LogisticRegression(max_iter=10000),\n",
    "    \"Decision Tree\": DecisionTreeClassifier(random_state=42),\n",
    "    \"Random Forest\": RandomForestClassifier(random_state=42),\n",
    "    \"Support Vector Machine\": SVC(),\n",
    "    \"k-Nearest Neighbors\": KNeighborsClassifier()\n",
    "}"
   ]
  },
  {
   "cell_type": "code",
   "execution_count": 8,
   "id": "9f6c5252-1edc-4923-aa55-f528168d4fe3",
   "metadata": {},
   "outputs": [],
   "source": [
    "results = []"
   ]
  },
  {
   "cell_type": "code",
   "execution_count": 9,
   "id": "ab190511-921f-4c43-98ab-e18a62acc51a",
   "metadata": {},
   "outputs": [],
   "source": [
    "from IPython.display import display, HTML"
   ]
  },
  {
   "cell_type": "markdown",
   "id": "6973c19e-a938-4209-8bf8-b271d43d6add",
   "metadata": {},
   "source": [
    "for name, model in models.items():\n",
    "    model.fit(X_train, y_train)\n",
    "    y_pred = model.predict(X_test)\n",
    "\n",
    "    acc = accuracy_score(y_test, y_pred)\n",
    "    results.append({\"Model\": name, \"Accuracy\": acc})\n",
    "\n",
    "    display(HTML(f'<span style=\"color:blue; font-size:18px; font-weight:bold;\">************ {name} ***********</span>'))\n",
    "    display(HTML(f'<span style=\"color:green; font-size:18px; font-weight:bold;\">Accuracy: {acc:.8f}</span>'))\n",
    "    print(\"Classification Report:\\n\", classification_report(y_test, y_pred))"
   ]
  },
  {
   "cell_type": "markdown",
   "id": "aee6db9a-3ed3-4e9c-896b-4c9ce46c29dd",
   "metadata": {},
   "source": [
    "### Compare Results"
   ]
  },
  {
   "cell_type": "code",
   "execution_count": 11,
   "id": "637afc90-3ba7-41c5-b2ae-9bdf66ed2c66",
   "metadata": {},
   "outputs": [
    {
     "name": "stdout",
     "output_type": "stream",
     "text": [
      "\n",
      "\n",
      "\n"
     ]
    },
    {
     "data": {
      "text/html": [
       "<span style=\"color:blue; font-size:18px; font-weight:bold;\">************  Model Performance Comparison: \n",
       " ***********</span>"
      ],
      "text/plain": [
       "<IPython.core.display.HTML object>"
      ]
     },
     "metadata": {},
     "output_type": "display_data"
    },
    {
     "name": "stdout",
     "output_type": "stream",
     "text": [
      "\n",
      "\n",
      "\n",
      "                    Model  Accuracy\n",
      "0     Logistic Regression  0.973684\n",
      "3  Support Vector Machine  0.973684\n",
      "2           Random Forest  0.964912\n",
      "1           Decision Tree  0.947368\n",
      "4     k-Nearest Neighbors  0.947368\n"
     ]
    }
   ],
   "source": [
    "results_df = pd.DataFrame(results)\n",
    "print(\"\\n\\n\")\n",
    "display(HTML(f'<span style=\"color:blue; font-size:18px; font-weight:bold;\">************  Model Performance Comparison: \\n ***********</span>'))\n",
    "print(\"\\n\\n\")\n",
    "print(results_df.sort_values(by=\"Accuracy\", ascending=False))\n",
    "#print(results_df)"
   ]
  },
  {
   "cell_type": "markdown",
   "id": "acaa0cf2-6352-440b-8d9b-d405ec046194",
   "metadata": {},
   "source": [
    "# Best and Worst Performing Models"
   ]
  },
  {
   "cell_type": "code",
   "execution_count": 12,
   "id": "ae0809d9-251e-4d3d-9291-144b5a03dafb",
   "metadata": {},
   "outputs": [],
   "source": [
    "best_model = results_df.loc[results_df['Accuracy'].idxmax()]\n",
    "worst_model = results_df.loc[results_df['Accuracy'].idxmin()]"
   ]
  },
  {
   "cell_type": "code",
   "execution_count": 13,
   "id": "0cb9dd28-eb36-4be7-a1c1-c007922ceb49",
   "metadata": {},
   "outputs": [
    {
     "data": {
      "text/html": [
       "<span style=\"color:blue; font-weight:bold; font-size:18px\">Best Performing Model</span>"
      ],
      "text/plain": [
       "<IPython.core.display.HTML object>"
      ]
     },
     "metadata": {},
     "output_type": "display_data"
    },
    {
     "name": "stdout",
     "output_type": "stream",
     "text": [
      "Model       Logistic Regression\n",
      "Accuracy               0.973684\n",
      "Name: 0, dtype: object\n"
     ]
    }
   ],
   "source": [
    "display(HTML('<span style=\"color:blue; font-weight:bold; font-size:18px\">Best Performing Model</span>'))\n",
    "print(best_model)"
   ]
  },
  {
   "cell_type": "code",
   "execution_count": 14,
   "id": "e41ae01d-b6e1-48e9-b8a8-757d67d34b48",
   "metadata": {},
   "outputs": [
    {
     "data": {
      "text/html": [
       "<span style=\"color:blue; font-weight:bold; font-size:18px\">Worst Performing Model</span>"
      ],
      "text/plain": [
       "<IPython.core.display.HTML object>"
      ]
     },
     "metadata": {},
     "output_type": "display_data"
    },
    {
     "name": "stdout",
     "output_type": "stream",
     "text": [
      "Model       Decision Tree\n",
      "Accuracy         0.947368\n",
      "Name: 1, dtype: object\n"
     ]
    }
   ],
   "source": [
    "display(HTML('<span style=\"color:blue; font-weight:bold; font-size:18px\">Worst Performing Model</span>'))\n",
    "print(worst_model)"
   ]
  },
  {
   "cell_type": "code",
   "execution_count": null,
   "id": "b8b34453-f0fe-48a3-b41e-3759fe457fdc",
   "metadata": {},
   "outputs": [],
   "source": []
  }
 ],
 "metadata": {
  "kernelspec": {
   "display_name": "Python 3 (ipykernel)",
   "language": "python",
   "name": "python3"
  },
  "language_info": {
   "codemirror_mode": {
    "name": "ipython",
    "version": 3
   },
   "file_extension": ".py",
   "mimetype": "text/x-python",
   "name": "python",
   "nbconvert_exporter": "python",
   "pygments_lexer": "ipython3",
   "version": "3.12.5"
  }
 },
 "nbformat": 4,
 "nbformat_minor": 5
}
