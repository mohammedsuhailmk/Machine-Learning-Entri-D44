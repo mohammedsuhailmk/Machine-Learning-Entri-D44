{
 "cells": [
  {
   "cell_type": "markdown",
   "id": "98825cee-11af-4412-a266-4ad74c38bf36",
   "metadata": {},
   "source": [
    "# <span style='color:brown'> Assignment 3 <span>"
   ]
  },
  {
   "cell_type": "code",
   "execution_count": 1,
   "id": "6b969eb8-d055-441d-aad5-0cd42c45ed36",
   "metadata": {},
   "outputs": [],
   "source": [
    "import pandas as pd\n",
    "import numpy as np\n",
    "from sklearn.datasets import fetch_california_housing\n",
    "from sklearn.model_selection import train_test_split\n",
    "from sklearn.preprocessing import StandardScaler\n",
    "from sklearn.linear_model import LinearRegression\n",
    "from sklearn.tree import DecisionTreeRegressor\n",
    "from sklearn.ensemble import RandomForestRegressor, GradientBoostingRegressor\n",
    "from sklearn.svm import SVR\n",
    "from sklearn.metrics import mean_squared_error, mean_absolute_error, r2_score"
   ]
  },
  {
   "cell_type": "markdown",
   "id": "22590c22-60aa-4db4-bd83-b76a12410179",
   "metadata": {},
   "source": [
    "# Loading and Preprocessing"
   ]
  },
  {
   "cell_type": "code",
   "execution_count": 2,
   "id": "bba905de-e360-47d5-9efe-659885df2d33",
   "metadata": {},
   "outputs": [],
   "source": [
    "data = fetch_california_housing()\n",
    "df = pd.DataFrame(data=data.data, columns=data.feature_names)\n",
    "df['MedHouseValue'] = data.target"
   ]
  },
  {
   "cell_type": "markdown",
   "id": "a40d7419-85e4-4c8b-86c5-dacff925ec6b",
   "metadata": {},
   "source": [
    "## Check for missing values"
   ]
  },
  {
   "cell_type": "code",
   "execution_count": 3,
   "id": "c7a10a59-66a4-4613-aa1c-cfbf4ab4a348",
   "metadata": {},
   "outputs": [
    {
     "name": "stdout",
     "output_type": "stream",
     "text": [
      "Missing values:\n",
      " MedInc           0\n",
      "HouseAge         0\n",
      "AveRooms         0\n",
      "AveBedrms        0\n",
      "Population       0\n",
      "AveOccup         0\n",
      "Latitude         0\n",
      "Longitude        0\n",
      "MedHouseValue    0\n",
      "dtype: int64\n"
     ]
    }
   ],
   "source": [
    "print(\"Missing values:\\n\", df.isnull().sum())"
   ]
  },
  {
   "cell_type": "markdown",
   "id": "af187406-b527-46e3-844c-635fffa320ea",
   "metadata": {},
   "source": [
    "## Missing values can distort model training and lead to errors or misleading results. In this dataset, there are no missing values, so no imputation was needed."
   ]
  },
  {
   "cell_type": "code",
   "execution_count": 4,
   "id": "e7409a6f-94d7-4bfa-8cc5-e9da60ccd465",
   "metadata": {},
   "outputs": [],
   "source": [
    "X = df.drop('MedHouseValue', axis=1)\n",
    "y = df['MedHouseValue']"
   ]
  },
  {
   "cell_type": "markdown",
   "id": "4126318d-4c7c-4242-b3a6-2abc7f1ce43a",
   "metadata": {},
   "source": [
    "### Split into train and test sets"
   ]
  },
  {
   "cell_type": "code",
   "execution_count": 6,
   "id": "76773b92-d77e-4295-853f-1ec58fa9fbc0",
   "metadata": {},
   "outputs": [],
   "source": [
    "X_train, X_test, y_train, y_test = train_test_split(X, y, test_size=0.2, random_state=42)"
   ]
  },
  {
   "cell_type": "markdown",
   "id": "9f16025e-93d2-4262-a769-8ae264856bd3",
   "metadata": {},
   "source": [
    "### To evaluate model performance, we need to separate a portion of the data for testing, ensuring the model is evaluated on unseen data to mimic real-world scenarios"
   ]
  },
  {
   "cell_type": "markdown",
   "id": "96e1e009-e642-42cb-a055-06336701711b",
   "metadata": {},
   "source": [
    "# Feature scaling"
   ]
  },
  {
   "cell_type": "code",
   "execution_count": 8,
   "id": "012d7749-38f4-425c-a406-a78896051307",
   "metadata": {},
   "outputs": [],
   "source": [
    "scaler = StandardScaler()\n",
    "X_train_scaled = scaler.fit_transform(X_train)\n",
    "X_test_scaled = scaler.transform(X_test)"
   ]
  },
  {
   "cell_type": "markdown",
   "id": "079ab9aa-b34d-481e-9918-feaa92657501",
   "metadata": {},
   "source": [
    "### Scaling is necessary, especially in Linear Regression, Support Vector Regressor (SVR), and Gradient Boosting, are sensitive to the scale of features.\n",
    "\n",
    "Features like population and median income have very different ranges, which can lead to biased training if not standardized.\n",
    "StandardScaler transforms features to have zero mean and unit variance, making training more stable and efficient."
   ]
  },
  {
   "cell_type": "markdown",
   "id": "defc2d9d-7ee4-4cb7-b0cc-c65db1113bd9",
   "metadata": {},
   "source": [
    "# Regression Algorithms"
   ]
  },
  {
   "cell_type": "code",
   "execution_count": 9,
   "id": "abd98b37-2856-427d-b638-b66a7392c5b8",
   "metadata": {},
   "outputs": [],
   "source": [
    "models = {\n",
    "    \"Linear Regression\": LinearRegression(),\n",
    "    \"Decision Tree Regressor\": DecisionTreeRegressor(random_state=42),\n",
    "    \"Random Forest Regressor\": RandomForestRegressor(random_state=42),\n",
    "    \"Gradient Boosting Regressor\": GradientBoostingRegressor(random_state=42),\n",
    "    \"Support Vector Regressor\": SVR()\n",
    "}\n",
    "\n",
    "results = []"
   ]
  },
  {
   "cell_type": "code",
   "execution_count": null,
   "id": "3276f1ca-7ee6-4b82-893c-dec0ebeb3bd2",
   "metadata": {},
   "outputs": [],
   "source": [
    "for name, model in models.items():\n",
    "    # Use scaled features for SVR and Linear Regression\n",
    "    if name in [\"Support Vector Regressor\", \"Linear Regression\"]:\n",
    "        model.fit(X_train_scaled, y_train)\n",
    "        y_pred = model.predict(X_test_scaled)\n",
    "    else:\n",
    "        model.fit(X_train, y_train)\n",
    "        y_pred = model.predict(X_test)\n",
    "\n",
    "    mse = mean_squared_error(y_test, y_pred)\n",
    "    mae = mean_absolute_error(y_test, y_pred)\n",
    "    r2 = r2_score(y_test, y_pred)\n",
    "\n",
    "    results.append({\n",
    "        \"Model\": name,\n",
    "        \"MSE\": mse,\n",
    "        \"MAE\": mae,\n",
    "        \"R²\": r2\n",
    "    })"
   ]
  },
  {
   "cell_type": "markdown",
   "id": "0bcefdc1-4d0f-4c5f-b52b-1089f0d4fd55",
   "metadata": {},
   "source": [
    "## Convert results to DataFrame"
   ]
  },
  {
   "cell_type": "code",
   "execution_count": null,
   "id": "60dea7fd-9291-43cb-86d6-7bc554551c44",
   "metadata": {},
   "outputs": [],
   "source": []
  }
 ],
 "metadata": {
  "kernelspec": {
   "display_name": "Python 3 (ipykernel)",
   "language": "python",
   "name": "python3"
  },
  "language_info": {
   "codemirror_mode": {
    "name": "ipython",
    "version": 3
   },
   "file_extension": ".py",
   "mimetype": "text/x-python",
   "name": "python",
   "nbconvert_exporter": "python",
   "pygments_lexer": "ipython3",
   "version": "3.12.5"
  }
 },
 "nbformat": 4,
 "nbformat_minor": 5
}
